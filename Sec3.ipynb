{
 "cells": [
  {
   "cell_type": "markdown",
   "metadata": {},
   "source": [
    "#### 函数的运行机制\n",
    "##### 函数对象和代码对象"
   ]
  },
  {
   "cell_type": "code",
   "execution_count": 2,
   "metadata": {},
   "outputs": [
    {
     "data": {
      "text/plain": [
       "<function __main__.func()>"
      ]
     },
     "execution_count": 2,
     "metadata": {},
     "output_type": "execute_result"
    }
   ],
   "source": [
    "# 每当定义了一个函数之后，就得到了一个函数对象。\n",
    "def func():\n",
    "    print(\"hola\")\n",
    "\n",
    "func"
   ]
  },
  {
   "cell_type": "code",
   "execution_count": 3,
   "metadata": {},
   "outputs": [
    {
     "name": "stdout",
     "output_type": "stream",
     "text": [
      "co_argcount\n",
      "co_cellvars\n",
      "co_code\n",
      "co_consts\n",
      "co_filename\n",
      "co_firstlineno\n",
      "co_flags\n",
      "co_freevars\n",
      "co_kwonlyargcount\n",
      "co_lines\n",
      "co_linetable\n",
      "co_lnotab\n",
      "co_name\n",
      "co_names\n",
      "co_nlocals\n",
      "co_posonlyargcount\n",
      "co_stacksize\n",
      "co_varnames\n"
     ]
    }
   ],
   "source": [
    "# 函数中的代码保存在代码对象中。代码对象随着函数对象的创建而创建，可以通过函数对象的 __code__ 属性访问代码对象。    \n",
    "func.__code__\n",
    "\n",
    "for attr in dir(func.__code__):\n",
    "    if attr.startswith('co_'):\n",
    "        print(attr)"
   ]
  },
  {
   "cell_type": "code",
   "execution_count": 4,
   "metadata": {},
   "outputs": [
    {
     "data": {
      "text/plain": [
       "<frame at 0x00000198243F7320, file 'C:\\\\Users\\\\27008\\\\AppData\\\\Local\\\\Temp\\\\ipykernel_38700\\\\2506255084.py', line 7, code foo>"
      ]
     },
     "execution_count": 4,
     "metadata": {},
     "output_type": "execute_result"
    }
   ],
   "source": [
    "# 函数运行帧\n",
    "# 函数对象和代码对象保存了函数的基本信息，当函数运行的时候，还需要一个对象来保存运行时的状态，即 帧对象。\n",
    "# 每一次调用函数，都会自动创建一个帧对象，记录当次运行的状态。\n",
    "import inspect\n",
    "\n",
    "def foo():\n",
    "    return inspect.currentframe()\n",
    "\n",
    "f1 = foo()\n",
    "f1"
   ]
  },
  {
   "cell_type": "code",
   "execution_count": 7,
   "metadata": {},
   "outputs": [
    {
     "name": "stdout",
     "output_type": "stream",
     "text": [
      "Graph written to C:\\Users\\27008\\AppData\\Local\\Temp\\objgraph-cx7atdib.dot (21 nodes)\n",
      "Graph viewer (xdot) and image renderer (dot) not found, not doing anything else\n"
     ]
    }
   ],
   "source": [
    "f2 = foo()\n",
    "\n",
    "# 函数对象、代码对象和帧对象之间的关系\n",
    "from objgraph import show_backrefs\n",
    "show_backrefs(foo.__code__)"
   ]
  },
  {
   "cell_type": "markdown",
   "metadata": {},
   "source": [
    "#### 函数运行栈\n",
    ">- 当一个函数中调用了另一个函数，此时前一个函数还没有结束，所以这两个函数的帧对象是同时存在的。\n",
    ">- 比如，我们的程序一般都始于一个 main 函数，然后又调用其它函数，以此类推。\n",
    ">- 因此，一个程序的运行期，同时存在很多个帧对象。\n",
    ">- 函数之间的调用关系是先执行的后退出，所以帧对象之间的关系也是先入后出，正好以栈的形式保存。\n",
    ">- 因此，函数的运行帧又称为栈帧。\n",
    ">- 注意：一个线程只有一个函数运行栈。"
   ]
  },
  {
   "cell_type": "code",
   "execution_count": 9,
   "metadata": {},
   "outputs": [
    {
     "name": "stdout",
     "output_type": "stream",
     "text": [
      "Graph written to C:\\Users\\27008\\AppData\\Local\\Temp\\objgraph-ygpibhlf.dot (46 nodes)\n",
      "Graph viewer (xdot) and image renderer (dot) not found, not doing anything else\n"
     ]
    }
   ],
   "source": [
    "def foo():\n",
    "    return inspect.currentframe()\n",
    "\n",
    "def bar():\n",
    "    return foo() # 返回 foo() 的帧对象\n",
    "\n",
    "f1 = bar()\n",
    "from objgraph import show_refs\n",
    "show_refs(f1)"
   ]
  },
  {
   "cell_type": "code",
   "execution_count": null,
   "metadata": {},
   "outputs": [
    {
     "name": "stdout",
     "output_type": "stream",
     "text": [
      "Graph written to C:\\Users\\27008\\AppData\\Local\\Temp\\objgraph-x_ezdxqr.dot (43 nodes)\n",
      "Graph viewer (xdot) and image renderer (dot) not found, not doing anything else\n"
     ]
    }
   ],
   "source": [
    "#### 生成器函数\n",
    "###### 生成器函数仍然是函数对象，当然也包括代码对象。\n",
    "import inspect\n",
    "def gen_foo():\n",
    "    for _ in range(3):\n",
    "        yield inspect.currentframe()\n",
    "\n",
    "show_refs(gen_foo)\n"
   ]
  },
  {
   "cell_type": "code",
   "execution_count": 11,
   "metadata": {},
   "outputs": [
    {
     "name": "stdout",
     "output_type": "stream",
     "text": [
      "Graph written to C:\\Users\\27008\\AppData\\Local\\Temp\\objgraph-syfg0de3.dot (23 nodes)\n",
      "Graph viewer (xdot) and image renderer (dot) not found, not doing anything else\n"
     ]
    }
   ],
   "source": [
    "##### 调用生成器函数不会立即运行函数代码，而是返回一个生成器对象。\n",
    "gf = gen_foo()\n",
    "show_refs(gf)"
   ]
  }
 ],
 "metadata": {
  "kernelspec": {
   "display_name": "Python 3",
   "language": "python",
   "name": "python3"
  },
  "language_info": {
   "codemirror_mode": {
    "name": "ipython",
    "version": 3
   },
   "file_extension": ".py",
   "mimetype": "text/x-python",
   "name": "python",
   "nbconvert_exporter": "python",
   "pygments_lexer": "ipython3",
   "version": "3.10.12"
  }
 },
 "nbformat": 4,
 "nbformat_minor": 2
}
